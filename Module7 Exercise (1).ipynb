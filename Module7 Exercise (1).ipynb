{
 "cells": [
  {
   "cell_type": "markdown",
   "metadata": {},
   "source": [
    "### Exercise 1\n",
    "Ask a user for 5 names and place each one in to a list called <i>names</i>. Then, print <i>names</i>."
   ]
  },
  {
   "cell_type": "code",
   "execution_count": 8,
   "metadata": {},
   "outputs": [
    {
     "name": "stdout",
     "output_type": "stream",
     "text": [
      "Enter a first name: angel\n",
      "Enter a second name: loic\n",
      "Enter a thirth name: cyrille\n",
      "Enter a fourth name: joaddan\n",
      "Enter a fifth name: daniel\n",
      "['angel', 'loic', 'cyrille', 'joaddan', 'daniel']\n"
     ]
    }
   ],
   "source": [
    "names = []\n",
    "names.append(input(\"Enter a first name: \"))\n",
    "names.append(input(\"Enter a second name: \"))\n",
    "names.append(input(\"Enter a thirth name: \"))\n",
    "names.append(input(\"Enter a fourth name: \"))\n",
    "names.append(input(\"Enter a fifth name: \"))\n",
    "\n",
    "org_names = names.copy()\n",
    "print(names)"
   ]
  },
  {
   "cell_type": "markdown",
   "metadata": {},
   "source": [
    "### Exercise 2\n",
    "Print out a randomly selected name in the names list from exercise 1."
   ]
  },
  {
   "cell_type": "code",
   "execution_count": 5,
   "metadata": {},
   "outputs": [
    {
     "name": "stdout",
     "output_type": "stream",
     "text": [
      "['angel', 'loic', 'cyrille', 'joaddan', 'daniel']\n",
      "cyrille\n"
     ]
    }
   ],
   "source": [
    "names = ['angel', 'loic', 'cyrille', 'joaddan', 'daniel']\n",
    "print(names)\n",
    "name = names[2]\n",
    "print(name)"
   ]
  },
  {
   "cell_type": "markdown",
   "metadata": {},
   "source": [
    "### Exercise 3: \n",
    "Fix bugs in the next cell.  It is trying to create a list for even numbers between two numbers provided by a user.\n"
   ]
  },
  {
   "cell_type": "code",
   "execution_count": 18,
   "metadata": {},
   "outputs": [
    {
     "name": "stdout",
     "output_type": "stream",
     "text": [
      "Enter a starting number: 1\n",
      "Enter an ending number: 10\n",
      "[1, 2, 3, 4, 5, 6, 7, 8, 9]\n",
      "[2, 4, 6, 8]\n"
     ]
    }
   ],
   "source": [
    "no1 = input(\"Enter a starting number: \")\n",
    "no2 = input(\"Enter an ending number: \")\n",
    "\n",
    "no1 = int(no1)\n",
    "no2 = int(no2)\n",
    "\n",
    "numbers = []\n",
    "evens = []\n",
    "\n",
    "for i in range(no1, no2) :\n",
    "    numbers.append(i) \n",
    "    if i%2 == 0:    # even number\n",
    "        evens.append(i)\n",
    "    \n",
    "print(numbers)    \n",
    "print(evens)"
   ]
  },
  {
   "cell_type": "markdown",
   "metadata": {},
   "source": [
    "### Exercise 4\n",
    "Finish writing a program to generate 10 random numbers between 1 and 100 and save it to a list.\n",
    "Finally, print out the original numbers followed by the smallest, largest, and average number."
   ]
  },
  {
   "cell_type": "code",
   "execution_count": 25,
   "metadata": {},
   "outputs": [
    {
     "name": "stdout",
     "output_type": "stream",
     "text": [
      "[32, 95, 13, 7, 95, 30, 4, 48, 17, 25]\n",
      "4\n",
      "95\n",
      "36.6\n"
     ]
    }
   ],
   "source": [
    "import random as rand\n",
    "\n",
    "numbers = []\n",
    "total = 0\n",
    "\n",
    "for i in range(1, 11) :\n",
    "    numb = rand.randint(1, 100)\n",
    "    total += numb\n",
    "    numbers.append(numb)\n",
    "\n",
    "    \n",
    "# some code needed here to find the smallest, largest, and average number\n",
    "\n",
    "smallest = 100\n",
    "for x in range(0, len(numbers)):\n",
    "    if numbers[x] < smallest:\n",
    "        smallest = numbers[x]\n",
    "        \n",
    "largest = 0\n",
    "for x in range(0, len(numbers)):\n",
    "    if numbers[x] > largest:\n",
    "        largest = numbers[x]\n",
    "\n",
    "total = 0\n",
    "for x in range(0, len(numbers)):\n",
    "    total += numbers[x]\n",
    "average = total/len(numbers)\n",
    "\n",
    "print(numbers)\n",
    "print(smallest)\n",
    "print(largest)\n",
    "print(average)\n",
    "\n",
    "\n"
   ]
  },
  {
   "cell_type": "code",
   "execution_count": null,
   "metadata": {},
   "outputs": [],
   "source": []
  },
  {
   "cell_type": "markdown",
   "metadata": {},
   "source": [
    "### Exercise 5\n",
    "\n",
    "Write a function called <b>draw_triangle()</b> to draw a right triangle where the base of the triangle is the number passed in as an arguement. Call <b>draw_triangle()</b> to show it works.\n",
    "\n",
    "e.g. <b>draw_triangle(7)</b> draws as below:\n",
    "\n",
    "    *\n",
    "    **\n",
    "    ***\n",
    "    ****\n",
    "    *****\n",
    "    ******\n",
    "    *******\n"
   ]
  },
  {
   "cell_type": "code",
   "execution_count": null,
   "metadata": {},
   "outputs": [],
   "source": [
    "# write code for draw_triangle() function\n",
    "\n",
    "\n",
    "\n",
    "\n",
    "\n"
   ]
  },
  {
   "cell_type": "code",
   "execution_count": null,
   "metadata": {},
   "outputs": [],
   "source": [
    "base = int(input(\"Enter a number: \"))\n",
    "\n",
    "draw_triangle(base)"
   ]
  }
 ],
 "metadata": {
  "kernelspec": {
   "display_name": "Python 3",
   "language": "python",
   "name": "python3"
  },
  "language_info": {
   "codemirror_mode": {
    "name": "ipython",
    "version": 3
   },
   "file_extension": ".py",
   "mimetype": "text/x-python",
   "name": "python",
   "nbconvert_exporter": "python",
   "pygments_lexer": "ipython3",
   "version": "3.8.8"
  }
 },
 "nbformat": 4,
 "nbformat_minor": 4
}
