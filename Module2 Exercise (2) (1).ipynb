{
 "cells": [
  {
   "cell_type": "markdown",
   "metadata": {},
   "source": [
    "## Exercises\n",
    "### Write the pseudocode for these problems. \n",
    "\n",
    "#### Define the problem by constructing an IPO diagram showing input, output, and processing steps\n",
    "Ask yourself\n",
    "- What control structures (sequence, selection and repetition) are required?\n",
    "- What variables are required?\n",
    "\n",
    "Show a check of your solution with **test data** for at least **two valid test cases**\n",
    "If you use the numbers provided in the example then the correct pseudocode will calculate the same result.\n",
    "    "
   ]
  },
  {
   "cell_type": "markdown",
   "metadata": {},
   "source": [
    "#### 1. Find the average score\n",
    "A program is needed to prompt the user operator for exam scores, calculate the average score and display the result to the screen. The average score is calculated as the sum of the scores divided by the number of scores."
   ]
  },
  {
   "cell_type": "markdown",
   "metadata": {},
   "source": [
    "find the average score\n",
    "begin:\n",
    "Prompt user to operate for exam score\n",
    "Get exam score\n",
    "Prompt user to calculate the average score\n",
    "Av = (Sum score) / Number score\n",
    "Display result\n",
    "print Av\n",
    "End\n"
   ]
  },
  {
   "cell_type": "markdown",
   "metadata": {},
   "source": [
    "#### 2. How much water runs off a roof in a rain storm?\n",
    "To calculate the runoff from any given rainfall: Take the dimensions of the footprint of the roof and convert them to inches. (So, a 50' x 20' roof is 600\" x 240\"). Multiply the roof dimensions by the number of inches of rainfall. As an example, 600\" x 240\" x 1\" = 144,000 cubic inches of water for an inch of rainfall. Divide that result by 231 to get the number of gallons (because 1 gallon = 231 cubic inches). (144,000/231 = 623.38)."
   ]
  },
  {
   "cell_type": "markdown",
   "metadata": {},
   "source": [
    "Calculate the runoff\n",
    "Begin:\n",
    "Set dimention of the footprint of the roof and convert them to inches\n",
    "Get 50'x 20' roof is 600\" x 240\"\n",
    "Multiply the roof dimensions by the numberof inches of rainfall\n",
    "Get roof dimensions\n",
    "Display roof dimensions\n",
    "600\" x 240\" x 1\" = 144,000 cubic inches\n",
    "Get the number of gallons\n",
    "Set 1 gallon = 231 cubic inches\n",
    "Display the number of gallon\n",
    "144,000/231 = 623.38\n",
    "Print number of gallon\n",
    "End\n"
   ]
  },
  {
   "cell_type": "markdown",
   "metadata": {},
   "source": [
    "#### 3. Process customer record\n",
    "A program is required to read a customer’s name, a purchase amount and a tax code. The tax code has been validated and will be one of the following: 0 tax exempt (0%) 1 state sales tax only (3%) 2 federal and state sales tax (5%) 3 special sales tax (7%) The program must then compute the sales tax and the total amount due,and print the customer’s name, purchase amount, sales tax and total amount due."
   ]
  },
  {
   "cell_type": "markdown",
   "metadata": {},
   "source": [
    "Input customer's name\n",
    "print name\n",
    "Input purchase amount \n",
    "print amount\n",
    "Imput sales tax and total amount due\n",
    "print sales tax and total amount\n",
    "If sale tax is 0\n",
    "    set the percentage to (0%)\n",
    "Else if state sales taxt is 1\n",
    "    Set the percentage to (3%)\n",
    "Else if federal and state sales tax is 2\n",
    "    Set the percentage to (5%)\n",
    "Else if special sales tax is 3\n",
    "    Set the percentage to (7%)\n",
    "Else\n",
    "    set the program must then compute the sales tax and the total amount due\n",
    "End\n"
   ]
  },
  {
   "cell_type": "markdown",
   "metadata": {},
   "source": [
    "#### 4. Calculate employee's pay \n",
    "A program is required by a company to read an employee’s number, pay rate and the number of hours worked in a week. The program is then to validate the pay rate field and the hours worked field and, if valid, compute the employee’s weekly pay and then print it and the input data.\n",
    "\n",
    "Validation: According to the company’s rules, the maximum hours an employee can work per week is 60 hours, and the maximum hourly rate is $25.00 per hour. If the hours worked field or the hourly rate field is out of range, the input data and an appropriate message are to be printed and the employee’s weekly pay is not to be calculated.\n",
    "\n",
    "Weekly pay calculation: Weekly pay is calculated as hours worked times pay rate. If more than 35 hours are worked, payment for the overtime hours worked is calculated at time-and-a-half."
   ]
  },
  {
   "cell_type": "markdown",
   "metadata": {},
   "source": [
    "Calculate Employee's pay\n",
    "Begin:\n",
    "Set the maximum hour per week is 60 hours\n",
    "Set the maximum hourly rate is $25.00 / h \n",
    "If loop <= 60 hours\n",
    "    set $25.00/ h \n",
    "Else\n",
    "print the the employee's weekly pay is not to be calculated\n",
    "End"
   ]
  }
 ],
 "metadata": {
  "kernelspec": {
   "display_name": "Python 3",
   "language": "python",
   "name": "python3"
  },
  "language_info": {
   "codemirror_mode": {
    "name": "ipython",
    "version": 3
   },
   "file_extension": ".py",
   "mimetype": "text/x-python",
   "name": "python",
   "nbconvert_exporter": "python",
   "pygments_lexer": "ipython3",
   "version": "3.8.8"
  }
 },
 "nbformat": 4,
 "nbformat_minor": 2
}
